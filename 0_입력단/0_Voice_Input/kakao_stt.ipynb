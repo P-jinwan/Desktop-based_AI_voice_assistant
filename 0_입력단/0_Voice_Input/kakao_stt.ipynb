{
 "cells": [
  {
   "cell_type": "code",
   "execution_count": null,
   "id": "28692646",
   "metadata": {},
   "outputs": [],
   "source": [
    "# Kakao의 Open API를 사용하여 STT 기능을 함수로 구현합니다.\n",
    "def KakaoSTT(data) :\n",
    "    \n",
    "    # 필요한 패키지를 임포트 합니다.\n",
    "    import requests\n",
    "    import json\n",
    "\n",
    "    # API의 전달할 내용을 작성합니다.\n",
    "    headers = {\"Content-Type\": \"application/octet-stream\", \"Authorization\": \"KakaoAK \" + '419b7a94f1afa5d4e729cbefb11338f6'}\n",
    "\n",
    "    # Request의 POST와 HOST를 참조하여 카카오 음성 url을 설정합니다.\n",
    "    kakao_speech_url = \"https://kakaoi-newtone-openapi.kakao.com/v1/recognize\"\n",
    "\n",
    "    # Kakao API의 음성 인식을 요청합니다.\n",
    "    voice_re = requests.post(kakao_speech_url, headers=headers, data=data)\n",
    "\n",
    "    # 요청에 실패했을 경우 예외 처리를 합니다.\n",
    "    if voice_re.status_code != 200 : \n",
    "        text=\"\"\n",
    "        print(\"error! because\",  voice_re.json())\n",
    "    else :\n",
    "        result = voice_re.text[voice_re.text.index('{\"type\":\"finalResult\"'):voice_re.text.rindex('}')+1]\n",
    "        text = json.loads(result).get('value')\n",
    "\n",
    "    return text"
   ]
  }
 ],
 "metadata": {
  "kernelspec": {
   "display_name": "Python 3 (ipykernel)",
   "language": "python",
   "name": "python3"
  },
  "language_info": {
   "codemirror_mode": {
    "name": "ipython",
    "version": 3
   },
   "file_extension": ".py",
   "mimetype": "text/x-python",
   "name": "python",
   "nbconvert_exporter": "python",
   "pygments_lexer": "ipython3",
   "version": "3.8.13"
  }
 },
 "nbformat": 4,
 "nbformat_minor": 5
}
