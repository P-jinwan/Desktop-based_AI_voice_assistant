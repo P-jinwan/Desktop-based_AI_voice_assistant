{
 "cells": [
  {
   "cell_type": "code",
   "execution_count": 1,
   "id": "3fc4e6dd",
   "metadata": {},
   "outputs": [],
   "source": [
    "# 마이크에서 음성을 수집하는 함수입니다.\n",
    "def GetSpeech() :\n",
    "    \n",
    "    # 필요한 패키지를 임포트 합니다.\n",
    "    import speech_recognition as sr\n",
    "\n",
    "    r = sr.Recognizer() # 마이크에서 음성을 수집하는 객체를 생성합니다.\n",
    "\n",
    "    microphone = sr.Microphone(sample_rate=16000) # 마이크 객체를 생성하고 Khz를 16000으로 설정합니다.\n",
    "\n",
    "    with microphone as source :            # 마이크 객체 source를 선언합니다.\n",
    "        r.adjust_for_ambient_noise(source) # 음성 수집 시 소음 수치를 반영하여 음성을 명확하게 받게 합니다.\n",
    "        print('음성을 청취 중입니다.')\n",
    "        try :\n",
    "            result = r.listen(source)      # 마이크에서 입력되는 음성을 수집하여 result 변수에 저장합니다.\n",
    "            return result\n",
    "        except Exception as e :            # 음성이 제대로 수집 되지 않았을 경우\n",
    "            print('Exception: ' + str(e))  # 에러 메세지를 출력합니다.\n",
    "            return ('입력된 음성이 없습니다. 계속 청취합니다.')"
   ]
  }
 ],
 "metadata": {
  "kernelspec": {
   "display_name": "Python 3 (ipykernel)",
   "language": "python",
   "name": "python3"
  },
  "language_info": {
   "codemirror_mode": {
    "name": "ipython",
    "version": 3
   },
   "file_extension": ".py",
   "mimetype": "text/x-python",
   "name": "python",
   "nbconvert_exporter": "python",
   "pygments_lexer": "ipython3",
   "version": "3.8.13"
  }
 },
 "nbformat": 4,
 "nbformat_minor": 5
}
