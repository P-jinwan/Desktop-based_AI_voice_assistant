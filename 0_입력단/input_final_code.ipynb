{
 "cells": [
  {
   "cell_type": "code",
   "execution_count": 1,
   "id": "0041a55e",
   "metadata": {},
   "outputs": [],
   "source": [
    "def VoiceCollect() :\n",
    "    ########## 패키지 임포트(임포트 경로는 메인 코드 기준으로 작성할 것) ##########\n",
    "    from 입력단.Voice_Input import get_speech as gs\n",
    "    from 입력단.Voice_Input import kakao_stt as stt\n",
    "    from 입력단.Noise_Reduction import noise_cancellation as nc\n",
    "    from 입력단.Biomatic_Voice_Recognization import biomatric_voice_recognization as bvr\n",
    "    from 입력단.Speech_Similarty import Speech_Similarity as ss\n",
    "    import scipy\n",
    "    ########## 패키지 임포트(임포트 경로는 메인 코드 기준으로 작성할 것) ##########\n",
    "    \n",
    "    ########## 함수 선언 ##########\n",
    "    # Numpy array를 Bytes로 변환하는 함수입니다.\n",
    "    def NumpyToBytes(numpy_array) :\n",
    "        # numpy array to bytes\n",
    "        ntb = numpy_array.tobytes()\n",
    "        \n",
    "        return ntb\n",
    "    ########## 함수 선언 ##########\n",
    "    \n",
    "    # 음성을 수집합니다.\n",
    "    voice = gs.GetSpeech()\n",
    "\n",
    "    # 노이즈 필터를 거쳐 선명한 음성을 받습니다.\n",
    "    nf_voice = nc.NoiseCancellation(voice, 1)\n",
    "\n",
    "    # 생체 인식 GMM 모델을 사용하여 목소리의 주인을 찾습니다.\n",
    "    identity = bvr.recognize_file(nf_voice)\n",
    "\n",
    "    # 비교용 녹음 파일을 읽어 들입니다.(추후에 데이타 베이스로 경로 변경 할 것)\n",
    "    sample_rate, data = scipy.io.wavfile.read('./Speech_Similarty/ref_Javise.wav')\n",
    "    \n",
    "    # 녹음 파일과 실시간 수집된 음성의 유사도를 확인합니다.\n",
    "    ss.speech_similarity(nf_voice, data, 20)\n",
    "    \n",
    "    # 노이즈를 제거한 데이터의 요소값을 bytes로 변환합니다.\n",
    "    bytes_voice = NumpyToBytes(nf_voice)\n",
    "\n",
    "    # 텍스트로 변환합니다.\n",
    "    text = stt.KakaoSTT(bytes_voice)\n",
    "\n",
    "    return text"
   ]
  }
 ],
 "metadata": {
  "kernelspec": {
   "display_name": "Python 3 (ipykernel)",
   "language": "python",
   "name": "python3"
  },
  "language_info": {
   "codemirror_mode": {
    "name": "ipython",
    "version": 3
   },
   "file_extension": ".py",
   "mimetype": "text/x-python",
   "name": "python",
   "nbconvert_exporter": "python",
   "pygments_lexer": "ipython3",
   "version": "3.8.13"
  }
 },
 "nbformat": 4,
 "nbformat_minor": 5
}
