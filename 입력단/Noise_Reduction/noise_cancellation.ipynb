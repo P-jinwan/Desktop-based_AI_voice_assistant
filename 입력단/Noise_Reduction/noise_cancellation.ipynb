{
 "cells": [
  {
   "cell_type": "code",
   "execution_count": 1,
   "id": "559c0567",
   "metadata": {
    "id": "559c0567"
   },
   "outputs": [],
   "source": [
    "def NoiseCancellation(voice , mode):\n",
    "    ############################## ▼패키지 임포트▼ ##############################\n",
    "    import numpy as np\n",
    "    import soundfile as sf\n",
    "    import sounddevice as sd\n",
    "    import scipy.io.wavfile\n",
    "    import noisereduce as nr\n",
    "    ############################## ▲패키지 임포트▲ ##############################\n",
    "    \n",
    "    ############################## ▼함수 선언▼ ##############################\n",
    "    def SNRFilter(data, sample_rate) :\n",
    "        # 음성 파일에서 추출한 데이터의 소음을 줄입니다.\n",
    "        audio_snrf = nr.reduce_noise(\n",
    "            y=data,                    # 입력 신호를 지정합니다\n",
    "            sr=sample_rate,                # 입력 신호/노이즈 신호의 샘플링 속도를 정의합니다.\n",
    "            n_std_thresh_stationary=1.5,   # 고정 노이즈 제거 강도를 지정합니다.\n",
    "            stationary=True)               # 고정 또는 비고정 노이즈 감소를 수행할지 여부를 지정합니다.\n",
    "        \n",
    "        return audio_snrf\n",
    "\n",
    "    def NSNRFilter(data, sample_rate) :\n",
    "        # 음성 파일에서 추출한 데이터의 소음을 줄입니다.\n",
    "        audio_nsnrf = nr.reduce_noise(\n",
    "            y=data,                    # 입력 신호를 지정합니다\n",
    "            sr=sample_rate,                # 입력 신호/노이즈 신호의 샘플링 속도를 정의합니다.\n",
    "            thresh_n_mult_nonstationary=2, # 노이즈 제거 강도를 지정합니다.\n",
    "            stationary=False)              # 고정 또는 비고정 노이즈 감소를 수행할지 여부를 지정합니다.\n",
    "        \n",
    "        return audio_nsnrf\n",
    "    ############################## ▲함수 선언▲ ##############################\n",
    "    \n",
    "    ############################## ▼노이즈 제거 실행▼ ##############################\n",
    "    with open(\"입력단/Noise_Reduction/audio.wav\", \"wb\") as f :\n",
    "        f.write(voice.get_wav_data())\n",
    "\n",
    "    # 음성 파일에서 데이터와 레이트를 추출합니다.\n",
    "    sample_rate, data = scipy.io.wavfile.read('입력단/Noise_Reduction/audio.wav')\n",
    "\n",
    "    # 노이즈 필터를 거쳐 선명한 음성을 받습니다.\n",
    "    if mode == 0:\n",
    "        nf_voice = SNRFilter(data, sample_rate)\n",
    "    else:\n",
    "        nf_voice = NSNRFilter(data, sample_rate)\n",
    "    \n",
    "    return nf_voice\n",
    "    ############################## ▲노이즈 제거 실행▲ ##############################"
   ]
  }
 ],
 "metadata": {
  "colab": {
   "collapsed_sections": [],
   "name": "none_stationary_noise_reduction.ipynb",
   "provenance": []
  },
  "kernelspec": {
   "display_name": "Python 3 (ipykernel)",
   "language": "python",
   "name": "python3"
  },
  "language_info": {
   "codemirror_mode": {
    "name": "ipython",
    "version": 3
   },
   "file_extension": ".py",
   "mimetype": "text/x-python",
   "name": "python",
   "nbconvert_exporter": "python",
   "pygments_lexer": "ipython3",
   "version": "3.8.13"
  }
 },
 "nbformat": 4,
 "nbformat_minor": 5
}
