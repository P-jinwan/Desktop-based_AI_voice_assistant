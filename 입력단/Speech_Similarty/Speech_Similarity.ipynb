{
 "cells": [
  {
   "cell_type": "code",
   "execution_count": 1,
   "id": "c1b0d1cc",
   "metadata": {},
   "outputs": [],
   "source": [
    "from fastdtw import fastdtw"
   ]
  },
  {
   "cell_type": "code",
   "execution_count": 2,
   "id": "be2aeadc",
   "metadata": {},
   "outputs": [],
   "source": [
    "def record_javise():\n",
    "    FORMAT = pyaudio.paInt16\n",
    "    CHANNELS = 1\n",
    "    RATE = 44100\n",
    "    CHUNK = 1024\n",
    "    RECORD_SECONDS = 3\n",
    "    \n",
    "#     file_name = 'ref_Javise'\n",
    "    file_name = 'test'\n",
    "    num = 3\n",
    "    path = './speech_similarity/'\n",
    "    \n",
    "    if not 'speech_similarity' in os.listdir('./'):\n",
    "        os.mkdir(path)\n",
    "    else:\n",
    "        pass\n",
    "\n",
    "    audio = pyaudio.PyAudio()\n",
    "\n",
    "    # start Recording\n",
    "    stream = audio.open(format=FORMAT, channels=CHANNELS,\n",
    "              rate=RATE, input=True,\n",
    "              frames_per_buffer=CHUNK)\n",
    "\n",
    "    print(\"recording...\")\n",
    "\n",
    "    frames = []\n",
    "\n",
    "    for _ in range(0, int(RATE / CHUNK * RECORD_SECONDS)):\n",
    "        data = stream.read(CHUNK)\n",
    "        frames.append(data)\n",
    "\n",
    "    # stop Recording\n",
    "    stream.stop_stream()\n",
    "    stream.close()\n",
    "    audio.terminate()\n",
    "\n",
    "    # saving wav file of speaker\n",
    "    waveFile = wave.open(path + '/' + file_name + \"_\"+ str(num) + '.wav', 'wb')\n",
    "    waveFile.setnchannels(CHANNELS)\n",
    "    waveFile.setsampwidth(audio.get_sample_size(FORMAT))\n",
    "    waveFile.setframerate(RATE)\n",
    "    waveFile.writeframes(b''.join(frames))\n",
    "    waveFile.close()\n",
    "    print(\"Done\")\n"
   ]
  },
  {
   "cell_type": "code",
   "execution_count": 3,
   "id": "23d0b361",
   "metadata": {},
   "outputs": [],
   "source": [
    "def sampling_function(ref_data, test_data, step):\n",
    "    sample_idx_ref = [i for i in range(0, len(ref_data), step) ]\n",
    "    sample_idx_test = [i for i in range(0, len(test_data), step) ]\n",
    "    return ref_data[sample_idx_ref], test_data[sample_idx_test]"
   ]
  },
  {
   "cell_type": "code",
   "execution_count": 4,
   "id": "4bf15f5d",
   "metadata": {},
   "outputs": [],
   "source": [
    "def speech_similarity(data_1, data_2, step):\n",
    "    x, y = sampling_function(data_1, data_2, step)\n",
    "    d, _ = fastdtw(x, y)\n",
    "    \n",
    "    print('distance : {}'.format(d))"
   ]
  },
  {
   "cell_type": "code",
   "execution_count": 1,
   "id": "bf72b52b",
   "metadata": {},
   "outputs": [],
   "source": [
    "def scaling_data(data, test):\n",
    "    \n",
    "    mms = MinMaxScaler()\n",
    "    convert_data = mms.fit_transform(data.reshape(-1, 1))\n",
    "\n",
    "    mms_1 = MinMaxScaler()\n",
    "    convert_test = mms.fit_transform(test.reshape(-1, 1))\n",
    "    \n",
    "    return convert_data, convert_test"
   ]
  },
  {
   "cell_type": "code",
   "execution_count": 5,
   "id": "6386b5dd",
   "metadata": {},
   "outputs": [
    {
     "name": "stdout",
     "output_type": "stream",
     "text": [
      "this file is Speech_Similarity\n"
     ]
    }
   ],
   "source": [
    "if __name__ == \"__main__\":\n",
    "    print(\"this file is Speech_Similarity\")"
   ]
  },
  {
   "cell_type": "code",
   "execution_count": null,
   "id": "a290d1eb",
   "metadata": {},
   "outputs": [],
   "source": []
  }
 ],
 "metadata": {
  "kernelspec": {
   "display_name": "Python 3 (ipykernel)",
   "language": "python",
   "name": "python3"
  },
  "language_info": {
   "codemirror_mode": {
    "name": "ipython",
    "version": 3
   },
   "file_extension": ".py",
   "mimetype": "text/x-python",
   "name": "python",
   "nbconvert_exporter": "python",
   "pygments_lexer": "ipython3",
   "version": "3.9.7"
  }
 },
 "nbformat": 4,
 "nbformat_minor": 5
}
