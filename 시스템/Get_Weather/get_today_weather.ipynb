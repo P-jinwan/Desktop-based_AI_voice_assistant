{
 "cells": [
  {
   "cell_type": "code",
   "execution_count": 14,
   "id": "f56ec493",
   "metadata": {},
   "outputs": [],
   "source": [
    "def TodayWeather() :    \n",
    "    ############################## ▼패키지 임포트▼ ##############################\n",
    "    import requests\n",
    "    from bs4 import BeautifulSoup as bs\n",
    "    ############################## ▲패키지 임포트▲ ##############################\n",
    "\n",
    "    ############################## ▼날씨 리뷰 기능 실행▼ ##############################\n",
    "    # 네이버의 '오늘 날씨'를 검색한 위치에서 시작합니다.\n",
    "    url = 'https://search.naver.com/search.naver?where=nexearch&sm=top_sug.pre&fbm=0&acr=2&acq=%EC%98%A4%EB%8A%98+%EB%82%A0%EC%94%A8&qdt=0&ie=utf8&query=%EC%98%A4%EB%8A%98+%EB%82%A0%EC%94%A8'\n",
    "    \n",
    "    # url에 저장된 주소의 HTML 정보를 가져옵니다.\n",
    "    response = requests.get(url)\n",
    "    \n",
    "    # 상태 코드가 200번이면 크롤링을 진행합니다.(상태 코드 참고: https://developer.mozilla.org/ko/docs/Web/HTTP/Status)\n",
    "    if response.status_code == 200 :\n",
    "        # response 변수에 저장된 HTML 정보를 텍스트 형태로 가져옵니다.\n",
    "        html = response.text               \n",
    "        # 크롤링을 진행할 파서 객체를 생성합니다.\n",
    "        soup = bs(html, 'html.parser') \n",
    "        # 지역명을 크롤링합니다.\n",
    "        area_name = soup.select_one('#main_pack > section.sc_new.cs_weather_new._cs_weather > div._tab_flicking > div.top_wrap > div.title_area._area_panel > h2.title').get_text()\n",
    "        # 맑은지 흐린지 대략적인 날씨 상황을 가져옵니다.\n",
    "        weather = soup.select_one('#main_pack > section.sc_new.cs_weather_new._cs_weather > div._tab_flicking > div.content_wrap > div.open > div:nth-child(1) > div > div.weather_info > div > div._today > div.temperature_info > p > span.weather.before_slash').get_text()\n",
    "        # 최저 기온을 가져옵니다.\n",
    "        lowest = soup.select_one('#main_pack > section.sc_new.cs_weather_new._cs_weather > div._tab_flicking > div.content_wrap > div.content_area > div.inner > div > div.list_box._weekly_weather > ul > li:nth-child(1) > div > div.cell_temperature > span > span.lowest').get_text()\n",
    "        # 최고 기온을 가져옵니다.\n",
    "        highest = soup.select_one('#main_pack > section.sc_new.cs_weather_new._cs_weather > div._tab_flicking > div.content_wrap > div.content_area > div.inner > div > div.list_box._weekly_weather > ul > li:nth-child(1) > div > div.cell_temperature > span > span.highest').get_text()\n",
    "        # 현재 기온을 가져옵니다.\n",
    "        present = soup.select_one('#main_pack > section.sc_new.cs_weather_new._cs_weather > div._tab_flicking > div.content_wrap > div.open > div:nth-child(1) > div > div.weather_info > div > div._today > div.weather_graphic > div.temperature_text > strong').get_text()\n",
    "    # 연결이 제대로 되지 않는다면 상태 코드를 출력하고 크롤링을 하지 않습니다.\n",
    "    else : \n",
    "        print(response.status_code)\n",
    "    \n",
    "    # TTS에 넘길 문장을 작성합니다.\n",
    "    text = ('오늘 {0} 날씨는 {1}이며, {2}은 {3}, {4}은 {5}, {6}는 {7}입니다.'.format(area_name, weather, lowest[:4],\n",
    "                                                                                    lowest[5:], highest[:4], highest[5:],\n",
    "                                                                                    present[:5], present[5:]))    \n",
    "    ############################## ▲날씨 리뷰 기능 실행▲ ##############################\n",
    "    return text"
   ]
  }
 ],
 "metadata": {
  "kernelspec": {
   "display_name": "Python 3 (ipykernel)",
   "language": "python",
   "name": "python3"
  },
  "language_info": {
   "codemirror_mode": {
    "name": "ipython",
    "version": 3
   },
   "file_extension": ".py",
   "mimetype": "text/x-python",
   "name": "python",
   "nbconvert_exporter": "python",
   "pygments_lexer": "ipython3",
   "version": "3.8.13"
  }
 },
 "nbformat": 4,
 "nbformat_minor": 5
}
