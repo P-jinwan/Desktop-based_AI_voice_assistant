{
 "cells": [
  {
   "cell_type": "code",
   "execution_count": 53,
   "id": "1beb9805",
   "metadata": {},
   "outputs": [],
   "source": [
    "from pywinauto.application import Application\n",
    "import pywinauto, time, pyautogui\n",
    "\n",
    "\n",
    "def pc_control(task, *action, loc= \"C:\\\\Users\\\\a\\\\Desktop\"):\n",
    "    print(\"pc_control\")\n",
    "    \n",
    "    ######## \"새로\" 프로그램 실행\n",
    "#     if \"새로\", \"하나\", \"열어줘\":\n",
    "    app = Application(backend=\"uia\").start(\"notepad.exe\")\n",
    "    \n",
    "    \n",
    "    \n",
    "    ######## 작업 표시줄 상의 프로그램 실행\n",
    "    \n",
    "    procs = pywinauto.findwindows.find_elements()\n",
    "\n",
    "    for proc in procs:\n",
    "        if task in proc.name:\n",
    "            break\n",
    "            \n",
    "    app = pywinauto.application.Application().connect(title= proc.name) \n",
    "    dlg = app[proc.name]\n",
    " \n",
    "    \n",
    "    if action[0] == 'open':   \n",
    "        time.sleep(0.1)\n",
    "        dlg.set_focus()\n",
    "\n",
    "    if len(action) == 2:\n",
    "        if action[1] == 'write':\n",
    "            time.sleep(0.1)\n",
    "            pyautogui.hotkey('ctrl', 'm')\n",
    "            pyautogui.moveTo(650, 520)\n",
    "            pyautogui.click()\n",
    "            dlg.type_keys(\"하실 말씀을 입력해 주세요\", with_spaces = True)\n",
    "            pyautogui.hotkey('enter')\n",
    "\n",
    "\n",
    "        if action[1] == 'save':\n",
    "            time.sleep(0.1)\n",
    "            pyautogui.hotkey('ctrl', 's')\n",
    "            dlg.minimize()\n",
    "\n",
    "\n",
    "        if action[1] == 'quit':\n",
    "            time.sleep(0.1)\n",
    "            dlg.close()\n",
    "        \n",
    "    dlg.minimize()\n",
    "    \n",
    "#     if action1 == \"열\" or action1 == \"켜\":\n",
    "#         dlg.menu_select(\"파일 탭 -> 다른 이름으로 저장\")\n",
    "    # dlg.select(\"파일 탭 -> 저장\")\n",
    "    # dlg.child_window(title=\"파일 탭\", auto_id=\"FileTabButton\", control_type=\"Button\").click()\n",
    "\n",
    "#     dlg.print_control_identifiers()"
   ]
  },
  {
   "cell_type": "code",
   "execution_count": 54,
   "id": "9e59356a",
   "metadata": {},
   "outputs": [
    {
     "name": "stdout",
     "output_type": "stream",
     "text": [
      "PowerPoint\n",
      "('open',)\n",
      "open\n",
      "C:\\Users\\a\\Desktop\n",
      "PowerPoint\n"
     ]
    }
   ],
   "source": [
    "loc = \"바탕화면\"\n",
    "task = \"PowerPoint\"\n",
    "action1 = \"open\"\n",
    "action2 = \"write\"\n",
    "# pc_control(task, action1, action2, loc= \"C:\\\\Users\\\\a\\\\Desktop\")\n",
    "pc_control(task, action1, loc= \"C:\\\\Users\\\\a\\\\Desktop\")"
   ]
  }
 ],
 "metadata": {
  "kernelspec": {
   "display_name": "py37",
   "language": "python",
   "name": "py37"
  },
  "language_info": {
   "codemirror_mode": {
    "name": "ipython",
    "version": 3
   },
   "file_extension": ".py",
   "mimetype": "text/x-python",
   "name": "python",
   "nbconvert_exporter": "python",
   "pygments_lexer": "ipython3",
   "version": "3.7.12"
  }
 },
 "nbformat": 4,
 "nbformat_minor": 5
}
