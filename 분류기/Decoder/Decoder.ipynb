{
 "cells": [
  {
   "cell_type": "code",
   "execution_count": 1,
   "id": "1758a291",
   "metadata": {},
   "outputs": [],
   "source": [
    "def Decoder(input_text, input_token) :\n",
    "    # 문장이 입력되면 각 토큰별로 딕셔너리에 저장합니다.\n",
    "    token_dict = {'LOC': [], 'TIM': [], 'ACT': [], 'TAS': [], 'NUM': []}\n",
    "    \n",
    "    # 문장과 토큰의 마지막에 'O'토큰을 넣어 마지막 요소도 출력되도록 합니다.\n",
    "    input_text.append('O')\n",
    "    input_token.append('O')\n",
    "\n",
    "    # 입력 데이터가 들어오면 각 토큰별로 단어를 넣습니다..\n",
    "    L_text, T_text, A_text, S_text, N_text = '', '', '', '', '' # 각 토큰의 단어를 입력받을 임시 저장소 변수입니다.\n",
    "\n",
    "    # 입력 텍스트 길이만큼 반복하며 같은 토큰의 단어는 하나로 묶고 딕셔너리에 토큰별로 저장합니다.\n",
    "    for i in range(len(input_text)) :       # 입력 텍스트 길이만큼 반복합니다..\n",
    "        if 'LOC' in input_token[i] :        # 입력 토큰의 i번째 요소가 'LOC'와 같다면\n",
    "            L_text = L_text + input_text[i] # L_text 변수에 저장된 문자와 입력 텍스트의 i 번째 문자를 합칩니다.\n",
    "        elif 'TIM' in input_token[i] :      # 입력 토큰의 i번째 요소가 'TIM'과 같다면\n",
    "            T_text = T_text + input_text[i] # T_text 변수에 저장된 문자와 입력 텍스트의 i 번째 문자를 합칩니다.\n",
    "        elif 'ACT' in input_token[i] :      # 입력 토큰의 i번째 요소가 'ACT'와 같다면\n",
    "            A_text = A_text + input_text[i] # A_text 변수에 저장된 문자와 입력 텍스트의 i 번째 문자를 합칩니다.\n",
    "        elif 'TAS' in input_token[i] :      # 입력 토큰의 i번째 요소가 'TAS'와 같다면\n",
    "            S_text = S_text + input_text[i] # S_text 변수에 저장된 문자와 입력 텍스트의 i 번째 문자를 합칩니다.\n",
    "        elif 'NUM' in input_token[i] :      # 입력 토큰의 i번째 요소가 'NUM'과 같다면\n",
    "            N_text = N_text + input_text[i] # N_text 변수에 저장된 문자와 입력 텍스트의 i 번째 문자를 합칩니다.\n",
    "\n",
    "        # 'O' 토큰이 나오면 모든 변수에 저장된 값을 딕셔너리에 넣고 초기화합니다.\n",
    "        if input_token[i] == 'O' :           # 입력 토큰의 i 번째 토큰이 'O'와 같다면\n",
    "            token_dict['LOC'].append(L_text) # token_dict 딕셔너리 'LOC' 키에 L_text 값으로 추가합니다.\n",
    "            token_dict['TIM'].append(T_text) # token_dict 딕셔너리 'TIM' 키에 T_text 값으로 추가합니다.\n",
    "            token_dict['ACT'].append(A_text) # token_dict 딕셔너리 'ACT' 키에 A_text 값으로 추가합니다.\n",
    "            token_dict['TAS'].append(S_text) # token_dict 딕셔너리 'TAS' 키에 S_text 값으로 추가합니다.\n",
    "            token_dict['NUM'].append(N_text) # token_dict 딕셔너리 'NUM' 키에 N_text 값으로 추가합니다.\n",
    "            L_text = ''                      # L_text 변수를 초기화 합니다.\n",
    "            T_text = ''                      # T_text 변수를 초기화 합니다.\n",
    "            A_text = ''                      # T_text 변수를 초기화 합니다.\n",
    "            S_text = ''                      # T_text 변수를 초기화 합니다.\n",
    "            N_text = ''                      # T_text 변수를 초기화 합니다.\n",
    "\n",
    "    # 딕셔너리의 공백을 지우고 합칩니다.\n",
    "    for key in token_dict.keys() :\n",
    "        token_dict[key] = ' '.join(token_dict[key]).split()\n",
    "        \n",
    "    return token_dict"
   ]
  }
 ],
 "metadata": {
  "kernelspec": {
   "display_name": "Python 3 (ipykernel)",
   "language": "python",
   "name": "python3"
  },
  "language_info": {
   "codemirror_mode": {
    "name": "ipython",
    "version": 3
   },
   "file_extension": ".py",
   "mimetype": "text/x-python",
   "name": "python",
   "nbconvert_exporter": "python",
   "pygments_lexer": "ipython3",
   "version": "3.8.13"
  }
 },
 "nbformat": 4,
 "nbformat_minor": 5
}
