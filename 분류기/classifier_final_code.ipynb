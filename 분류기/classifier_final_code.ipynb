{
 "cells": [
  {
   "cell_type": "code",
   "execution_count": 1,
   "id": "b82c02f4",
   "metadata": {},
   "outputs": [],
   "source": [
    "def classifier(text) :\n",
    "    ########## 패키지 임포트 ##########\n",
    "    from classification_bidirectional_lstm_module import classification_bidirectional_lstm as cbl\n",
    "    from Decoder import Decoder as dc\n",
    "    ########## 패키지 임포트 ##########\n",
    "    \n",
    "    text, token = cbl.classification_bidirectional_lstm(text) # 입력 문장에 대해서 키워드 분류를 진행합니다.\n",
    "    token_dict = dc.Decoder(text, token) # 텍스트와 토큰 데이터를 각 토큰별로 맞춰 딕셔너리 형태로 반환받습니다.\n",
    "    \n",
    "    return token_dict"
   ]
  },
  {
   "cell_type": "code",
   "execution_count": null,
   "id": "99d3a4af",
   "metadata": {},
   "outputs": [],
   "source": []
  }
 ],
 "metadata": {
  "kernelspec": {
   "display_name": "Python 3 (ipykernel)",
   "language": "python",
   "name": "python3"
  },
  "language_info": {
   "codemirror_mode": {
    "name": "ipython",
    "version": 3
   },
   "file_extension": ".py",
   "mimetype": "text/x-python",
   "name": "python",
   "nbconvert_exporter": "python",
   "pygments_lexer": "ipython3",
   "version": "3.8.13"
  }
 },
 "nbformat": 4,
 "nbformat_minor": 5
}
