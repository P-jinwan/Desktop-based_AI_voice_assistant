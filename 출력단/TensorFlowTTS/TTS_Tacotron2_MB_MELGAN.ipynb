{
 "cells": [
  {
   "cell_type": "code",
   "execution_count": null,
   "id": "26be6e2a",
   "metadata": {},
   "outputs": [],
   "source": []
  },
  {
   "cell_type": "code",
   "execution_count": null,
   "id": "c2d22fd8",
   "metadata": {},
   "outputs": [],
   "source": [
    "#!pip install h5py==2.10\n",
    "#!pip install git+https://github.com/repodiac/german_transliterate"
   ]
  },
  {
   "cell_type": "code",
   "execution_count": null,
   "id": "459fd35d",
   "metadata": {},
   "outputs": [],
   "source": [
    "#!pip install ."
   ]
  },
  {
   "cell_type": "code",
   "execution_count": null,
   "id": "7d8691a3",
   "metadata": {},
   "outputs": [],
   "source": [
    "#!git clone https://github.com/librosa/librosa.git\n",
    "#!pip install -e librosa"
   ]
  },
  {
   "cell_type": "code",
   "execution_count": null,
   "id": "ddac204a",
   "metadata": {},
   "outputs": [],
   "source": [
    "#!pip install pypinyin"
   ]
  },
  {
   "cell_type": "code",
   "execution_count": null,
   "id": "6800efa0",
   "metadata": {},
   "outputs": [],
   "source": [
    "#!pip install g2p_en"
   ]
  },
  {
   "cell_type": "code",
   "execution_count": null,
   "id": "e642786e",
   "metadata": {},
   "outputs": [],
   "source": [
    "#!pip install pyopenjtalk"
   ]
  },
  {
   "cell_type": "code",
   "execution_count": null,
   "id": "5dbad407",
   "metadata": {},
   "outputs": [],
   "source": [
    "#!pip install huggingface_hub"
   ]
  },
  {
   "cell_type": "code",
   "execution_count": 2,
   "id": "20e1f75d",
   "metadata": {},
   "outputs": [],
   "source": [
    "def load_model():\n",
    "    import tensorflow as tf\n",
    "    import yaml\n",
    "    import numpy as np\n",
    "    import matplotlib.pyplot as plt\n",
    "    import IPython.display as ipd\n",
    "    from tensorflow_tts.inference import AutoConfig\n",
    "    from tensorflow_tts.inference import TFAutoModel\n",
    "    from tensorflow_tts.inference import AutoProcessor\n",
    "    \n",
    "    # tacotron2 text -> mel-spectrogram으로 바꿔주는 model\n",
    "    tacotron2_config = AutoConfig.from_pretrained('examples/tacotron2/conf/tacotron2.kss.v1.yaml')\n",
    "    tacotron2 = TFAutoModel.from_pretrained(\n",
    "        config=tacotron2_config,\n",
    "        pretrained_path=\"tacotron2/model-20000.h5\", #tacotron2-100k.h5\n",
    "        name=\"tacotron2\"\n",
    "    )\n",
    "    \n",
    "    # inference 시 attention graph의 alignment value(색깔, 음량의 세기)의 범위를 지정해준다\n",
    "    # setup window for tacotron2 if you want to try\n",
    "    tacotron2.setup_window(win_front=100, win_back=100)\n",
    "\n",
    "    # Vocoder model (mel spectrogram -> audio)\n",
    "    # 멜로디 생성 모델을 사용합니다.\n",
    "    mb_melgan_config = AutoConfig.from_pretrained('examples/multiband_melgan/conf/multiband_melgan.v1.yaml')\n",
    "    mb_melgan = TFAutoModel.from_pretrained(\n",
    "        config=mb_melgan_config,\n",
    "        pretrained_path=\"mb.melgan-1000k.h5\", # mb.melgan-1000k.h5\n",
    "        name=\"mb_melgan\"\n",
    "    )\n",
    "\n",
    "    # input text를 inference시 숫자로 이뤄진 sequence로 변환할 때 필요합니다.\n",
    "    processor = AutoProcessor.from_pretrained(pretrained_path=\"kss_mapper.json\")\n",
    "    \n",
    "    return tacotron2,mb_melgan,processor"
   ]
  },
  {
   "cell_type": "code",
   "execution_count": 3,
   "id": "8dc49377",
   "metadata": {},
   "outputs": [
    {
     "ename": "ModuleNotFoundError",
     "evalue": "No module named '출력단'",
     "output_type": "error",
     "traceback": [
      "\u001b[1;31m---------------------------------------------------------------------------\u001b[0m",
      "\u001b[1;31mModuleNotFoundError\u001b[0m                       Traceback (most recent call last)",
      "Input \u001b[1;32mIn [3]\u001b[0m, in \u001b[0;36m<cell line: 1>\u001b[1;34m()\u001b[0m\n\u001b[1;32m----> 1\u001b[0m \u001b[43mload_model\u001b[49m\u001b[43m(\u001b[49m\u001b[43m)\u001b[49m\n",
      "Input \u001b[1;32mIn [2]\u001b[0m, in \u001b[0;36mload_model\u001b[1;34m()\u001b[0m\n\u001b[0;32m      5\u001b[0m \u001b[38;5;28;01mimport\u001b[39;00m \u001b[38;5;21;01mmatplotlib\u001b[39;00m\u001b[38;5;21;01m.\u001b[39;00m\u001b[38;5;21;01mpyplot\u001b[39;00m \u001b[38;5;28;01mas\u001b[39;00m \u001b[38;5;21;01mplt\u001b[39;00m\n\u001b[0;32m      6\u001b[0m \u001b[38;5;28;01mimport\u001b[39;00m \u001b[38;5;21;01mIPython\u001b[39;00m\u001b[38;5;21;01m.\u001b[39;00m\u001b[38;5;21;01mdisplay\u001b[39;00m \u001b[38;5;28;01mas\u001b[39;00m \u001b[38;5;21;01mipd\u001b[39;00m\n\u001b[1;32m----> 7\u001b[0m \u001b[38;5;28;01mfrom\u001b[39;00m \u001b[38;5;21;01mtensorflow_tts\u001b[39;00m\u001b[38;5;21;01m.\u001b[39;00m\u001b[38;5;21;01minference\u001b[39;00m \u001b[38;5;28;01mimport\u001b[39;00m AutoConfig\n\u001b[0;32m      8\u001b[0m \u001b[38;5;28;01mfrom\u001b[39;00m \u001b[38;5;21;01mtensorflow_tts\u001b[39;00m\u001b[38;5;21;01m.\u001b[39;00m\u001b[38;5;21;01minference\u001b[39;00m \u001b[38;5;28;01mimport\u001b[39;00m TFAutoModel\n\u001b[0;32m      9\u001b[0m \u001b[38;5;28;01mfrom\u001b[39;00m \u001b[38;5;21;01mtensorflow_tts\u001b[39;00m\u001b[38;5;21;01m.\u001b[39;00m\u001b[38;5;21;01minference\u001b[39;00m \u001b[38;5;28;01mimport\u001b[39;00m AutoProcessor\n",
      "File \u001b[1;32mD:\\KDT5_Project\\데스크탑 기반 인공지능 음성 비서\\4_최종\\최종 모델\\Jarvis\\출력단\\TensorFlowTTS\\tensorflow_tts\\inference\\__init__.py:1\u001b[0m, in \u001b[0;36m<module>\u001b[1;34m\u001b[0m\n\u001b[1;32m----> 1\u001b[0m \u001b[38;5;28;01mfrom\u001b[39;00m \u001b[38;5;21;01m출력단\u001b[39;00m\u001b[38;5;21;01m.\u001b[39;00m\u001b[38;5;21;01mTensorFlowTTS\u001b[39;00m\u001b[38;5;21;01m.\u001b[39;00m\u001b[38;5;21;01mtensorflow_tts\u001b[39;00m\u001b[38;5;21;01m.\u001b[39;00m\u001b[38;5;21;01minference\u001b[39;00m\u001b[38;5;21;01m.\u001b[39;00m\u001b[38;5;21;01mauto_model\u001b[39;00m \u001b[38;5;28;01mimport\u001b[39;00m TFAutoModel\n\u001b[0;32m      2\u001b[0m \u001b[38;5;28;01mfrom\u001b[39;00m \u001b[38;5;21;01m출력단\u001b[39;00m\u001b[38;5;21;01m.\u001b[39;00m\u001b[38;5;21;01mTensorFlowTTS\u001b[39;00m\u001b[38;5;21;01m.\u001b[39;00m\u001b[38;5;21;01mtensorflow_tts\u001b[39;00m\u001b[38;5;21;01m.\u001b[39;00m\u001b[38;5;21;01minference\u001b[39;00m\u001b[38;5;21;01m.\u001b[39;00m\u001b[38;5;21;01mauto_config\u001b[39;00m \u001b[38;5;28;01mimport\u001b[39;00m AutoConfig\n\u001b[0;32m      3\u001b[0m \u001b[38;5;28;01mfrom\u001b[39;00m \u001b[38;5;21;01m출력단\u001b[39;00m\u001b[38;5;21;01m.\u001b[39;00m\u001b[38;5;21;01mTensorFlowTTS\u001b[39;00m\u001b[38;5;21;01m.\u001b[39;00m\u001b[38;5;21;01mtensorflow_tts\u001b[39;00m\u001b[38;5;21;01m.\u001b[39;00m\u001b[38;5;21;01minference\u001b[39;00m\u001b[38;5;21;01m.\u001b[39;00m\u001b[38;5;21;01mauto_processor\u001b[39;00m \u001b[38;5;28;01mimport\u001b[39;00m AutoProcessor\n",
      "\u001b[1;31mModuleNotFoundError\u001b[0m: No module named '출력단'"
     ]
    }
   ],
   "source": [
    "load_model()"
   ]
  },
  {
   "cell_type": "code",
   "execution_count": null,
   "id": "2e5278f3",
   "metadata": {},
   "outputs": [],
   "source": [
    "# 직접 음성합성을 진행하는 함수입니다.\n",
    "# text -> mel spectrogram model, vocoder model을 인자로 선택합니다.\n",
    "def do_synthesis(input_text, text2mel_model, vocoder_model, text2mel_name, vocoder_name, processor):\n",
    "    import tensorflow as tf\n",
    "    import yaml\n",
    "    import numpy as np\n",
    "    import matplotlib.pyplot as plt\n",
    "    import IPython.display as ipd\n",
    "    from tensorflow_tts.inference import AutoConfig\n",
    "    from tensorflow_tts.inference import TFAutoModel\n",
    "    from tensorflow_tts.inference import AutoProcessor\n",
    "    \n",
    "    input_ids = processor.text_to_sequence(input_text)\n",
    "    #print('input_ids = ', input_ids)\n",
    "    # text2mel part\n",
    "    if text2mel_name == \"TACOTRON\":\n",
    "        i, mel_outputs, stop_token_prediction, alignment_history = text2mel_model.inference(\n",
    "        tf.expand_dims(tf.convert_to_tensor(input_ids, dtype=tf.int32), 0),\n",
    "        tf.convert_to_tensor([len(input_ids)], tf.int32),\n",
    "        tf.convert_to_tensor([0], dtype=tf.int32)\n",
    "        )\n",
    "    #print('i = ', i)\n",
    "    #print('mel_outputs = ', mel_outputs)\n",
    "    #print('stop_token_prediction = ', stop_token_prediction)\n",
    "    #print('alignment_history = ', alignment_history)\n",
    "    else:\n",
    "        raise ValueError(\"Only TACOTRON are supported on text2mel_name\")\n",
    "\n",
    "      # vocoder part\n",
    "    if vocoder_name == \"MB-MELGAN\":\n",
    "        audio = vocoder_model.inference(mel_outputs)[0, :, 0]\n",
    "    else:\n",
    "        raise ValueError(\"Only MB_MELGAN are supported on vocoder_name\")\n",
    "\n",
    "    # tacotron2 attention graph도 함께 반환합니다.\n",
    "    if text2mel_name == \"TACOTRON\":\n",
    "        return mel_outputs.numpy(), alignment_history.numpy(), audio.numpy()\n",
    "    else:\n",
    "        return mel_outputs.numpy(), audio.numpy()\n",
    "    # attention 시각화해서 보여주는 함수입니다.\n",
    "    # tacotron2 encoder와 decoder가 어떠한 mapping을 형성하는지 보여줍니다.\n",
    "    \n",
    "def visualize_attention(alignment_history):\n",
    "    import matplotlib.pyplot as plt\n",
    "    \n",
    "    fig = plt.figure(figsize=(8, 6))\n",
    "    ax = fig.add_subplot(111)\n",
    "    ax.set_title(f'Alignment steps')\n",
    "    im = ax.imshow(\n",
    "          alignment_history,\n",
    "          aspect='auto',\n",
    "          origin='lower',\n",
    "          interpolation='none')\n",
    "    fig.colorbar(im, ax=ax)\n",
    "    xlabel = 'Encoder timestep'\n",
    "    plt.xlabel(xlabel)\n",
    "    plt.ylabel('Decoder timestep')\n",
    "    plt.tight_layout()\n",
    "    plt.show()\n",
    "    plt.close()\n",
    "\n",
    "def visualize_mel_spectrogram(mels):\n",
    "    mels = tf.reshape(mels, [-1, 80]).numpy()\n",
    "    fig = plt.figure(figsize=(10, 8))\n",
    "    ax1 = fig.add_subplot(311)\n",
    "    ax1.set_title(f'Predicted Mel-after-Spectrogram')\n",
    "    im = ax1.imshow(np.rot90(mels), aspect='auto', interpolation='none')\n",
    "    fig.colorbar(mappable=im, shrink=0.65, orientation='horizontal', ax=ax1)\n",
    "    plt.show()\n",
    "    plt.close()"
   ]
  },
  {
   "cell_type": "code",
   "execution_count": null,
   "id": "c801c671",
   "metadata": {},
   "outputs": [],
   "source": [
    "def tacotron2_sjh(input_text, tacotron2, mb_melgan, processor, idx):\n",
    "    from IPython.display import Audio\n",
    "    import soundfile as sf\n",
    "    _, _, audios = do_synthesis(input_text, tacotron2, mb_melgan, \"TACOTRON\", \"MB-MELGAN\", processor)\n",
    "    display(Audio(audios, rate=22050, autoplay=True))\n",
    "    sf.write('tts_wav/stereo_file_' + str(idx) + '.wav', audios, 22050, 'PCM_24')"
   ]
  },
  {
   "cell_type": "code",
   "execution_count": null,
   "id": "6610a872",
   "metadata": {},
   "outputs": [],
   "source": [
    "tacotron2, mb_melgan, processor = load_model() #시간 걸림 모델 로드"
   ]
  },
  {
   "cell_type": "code",
   "execution_count": null,
   "id": "68124263",
   "metadata": {},
   "outputs": [],
   "source": [
    "# 입력 문장이 들어가는 곳입니다. \n",
    "input_text = \"맑습니다. 최저기온은 17도이며, 오늘 서초구 서초4동 날씨는 온도는 30도 입니다.\"\n",
    "idx = \"ppt\""
   ]
  },
  {
   "cell_type": "code",
   "execution_count": null,
   "id": "dd05147a",
   "metadata": {},
   "outputs": [],
   "source": [
    "tacotron2_sjh(input_text, tacotron2, mb_melgan, processor, idx)"
   ]
  }
 ],
 "metadata": {
  "kernelspec": {
   "display_name": "AI_assistant",
   "language": "python",
   "name": "ai_assistant"
  },
  "language_info": {
   "codemirror_mode": {
    "name": "ipython",
    "version": 3
   },
   "file_extension": ".py",
   "mimetype": "text/x-python",
   "name": "python",
   "nbconvert_exporter": "python",
   "pygments_lexer": "ipython3",
   "version": "3.8.13"
  }
 },
 "nbformat": 4,
 "nbformat_minor": 5
}
